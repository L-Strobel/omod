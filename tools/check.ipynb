{
 "cells": [
  {
   "cell_type": "code",
   "execution_count": 1,
   "metadata": {},
   "outputs": [],
   "source": [
    "import pandas as pd\n",
    "import geopandas as gpd\n",
    "import shapely"
   ]
  },
  {
   "cell_type": "code",
   "execution_count": 2,
   "metadata": {},
   "outputs": [],
   "source": [
    "commuting_data_in = {}\n",
    "commuting_data_out = {}\n",
    "for i in range(1, 17):\n",
    "    commuting_data_in[f\"{i:02}\"] = pd.read_excel(f\"C:/Users/strobel/Projekte/open-data/BfA/krpend-{i:02}-0-202112-xlsx.xlsx\", sheet_name=\"Einpendler Kreise\", skiprows=6)\n",
    "    commuting_data_out[f\"{i:02}\"] = pd.read_excel(f\"C:/Users/strobel/Projekte/open-data/BfA/krpend-{i:02}-0-202112-xlsx.xlsx\", sheet_name=\"Auspendler Kreise\", skiprows=6)"
   ]
  },
  {
   "cell_type": "code",
   "execution_count": 3,
   "metadata": {},
   "outputs": [],
   "source": [
    "workforce_stats = pd.read_excel(\"C:/Users/strobel/Projekte/open-data/BfA/gemband_dlk_0.xlsb\", sheet_name=\"Gemeindedaten\", skiprows=5)\n",
    "workforce_stats = workforce_stats.rename(columns={\"Unnamed: 0\": \"AGS\", \"Unnamed: 1\": \"Name\", \"Wohnort\\ngleich\\nArbeitsort\": \"InternalCommutes\"})[[ \"AGS\", \"Name\", \"InternalCommutes\"]]\n",
    "workforce_stats[\"AGS\"] = workforce_stats[\"AGS\"].dropna()\n",
    "workforce_stats = workforce_stats[workforce_stats.AGS.apply(lambda x: 5 == len(str(x)) or str(x).endswith(\"000\"))]\n",
    "workforce_stats[\"AGS\"] = workforce_stats[\"AGS\"].apply(lambda x: str(x)[:5])\n",
    "workforce_stats = workforce_stats.set_index(\"AGS\")"
   ]
  },
  {
   "cell_type": "code",
   "execution_count": 4,
   "metadata": {},
   "outputs": [],
   "source": [
    "def get_commuting_flows(for_area: str, direction: str):\n",
    "    cols = [\"Wohnort\", \"Arbeitsort\", \"Insgesamt\"]\n",
    "    if direction.lower() == \"in\":\n",
    "        commuting_data = commuting_data_in[for_area[:2]][cols].copy()\n",
    "        col_1 = 'Wohnort'\n",
    "        col_2 = 'Arbeitsort'\n",
    "    elif direction.lower() == \"out\":\n",
    "        commuting_data = commuting_data_out[for_area[:2]][cols].copy()\n",
    "        col_1 = 'Arbeitsort'\n",
    "        col_2 = 'Wohnort'\n",
    "    else:\n",
    "        print(f\"{direction} is not direction. Options: in, out\")\n",
    "        return\n",
    "    \n",
    "    # Fix excel formating\n",
    "    commuting_data = commuting_data.fillna(method=\"ffill\").replace(\"*\", 0)\n",
    "    # Filter Bundesländer and Bezirke\n",
    "    commuting_data = commuting_data[commuting_data[col_1].apply(lambda x: len(str(x)) > 3)]\n",
    "    # Get area\n",
    "    commuting_data = commuting_data[commuting_data[col_2] == for_area]\n",
    "    # Internal commuting\n",
    "    commuting_data.loc[commuting_data.index.max()+1] = [for_area, for_area, workforce_stats.loc[for_area, \"InternalCommutes\"]]\n",
    "    return commuting_data\n",
    "\n",
    "def most_relevant(for_area: str):\n",
    "    relevant_counties = set()\n",
    "    for direction in [\"in\", \"out\"]:\n",
    "        commuting_flows = get_commuting_flows(for_area, direction)\n",
    "        # Get most relevant\n",
    "        commuting_flows = commuting_flows.sort_values(\"Insgesamt\", ascending=False)\n",
    "        commuting_flows[\"cumsum_perc\"] = commuting_flows.Insgesamt.cumsum()/ commuting_flows.Insgesamt.sum()\n",
    "        commuting_flows = commuting_flows[commuting_flows.cumsum_perc <= 0.95]\n",
    "        \n",
    "        relevant_counties.update(commuting_flows[\"Arbeitsort\"].to_list())\n",
    "        relevant_counties.update(commuting_flows[\"Wohnort\"].to_list())\n",
    "    return relevant_counties\n",
    "\n",
    "def make_od(relevant_counties):\n",
    "    ods = pd.DataFrame(index=relevant_counties, columns=relevant_counties)\n",
    "    for county in relevant_counties:\n",
    "        for direction in [\"in\", \"out\"]:\n",
    "            commuting_flows = get_commuting_flows(county, direction)\n",
    "            commuting_flows = commuting_flows[commuting_flows.Wohnort.isin(relevant_counties) & commuting_flows.Arbeitsort.isin(relevant_counties)]\n",
    "            # Pivot data\n",
    "            od_county = commuting_flows.pivot(index=[\"Wohnort\"], columns=[\"Arbeitsort\"], values=[\"Insgesamt\"])\n",
    "            # Fix indices\n",
    "            od_county.columns = od_county.columns.droplevel(0)\n",
    "            od_county = od_county.rename_axis(\"Origin\").rename_axis(\"Destination\", axis=1)\n",
    "            ods.loc[od_county.index, od_county.columns] = od_county\n",
    "    return ods"
   ]
  },
  {
   "cell_type": "code",
   "execution_count": 5,
   "metadata": {},
   "outputs": [],
   "source": [
    "relevant_counties = set()\n",
    "relevant_counties.update(most_relevant('09462'))\n",
    "relevant_counties.update(most_relevant('09472'))"
   ]
  },
  {
   "cell_type": "code",
   "execution_count": 6,
   "metadata": {},
   "outputs": [],
   "source": [
    "krs = gpd.read_file(\"C:/Users/strobel/Projekte/esmregio/Daten/AdminGebiete/vg250_ebenen_0101/VG250_KRS.shp\")\n",
    "krs = krs[krs.AGS.isin(relevant_counties)][:-1] # Drop second hamburg (is it the harbor?)\n",
    "krs = krs.to_crs(4326)"
   ]
  },
  {
   "cell_type": "code",
   "execution_count": 7,
   "metadata": {},
   "outputs": [
    {
     "data": {
      "text/plain": [
       "<AxesSubplot:>"
      ]
     },
     "execution_count": 7,
     "metadata": {},
     "output_type": "execute_result"
    },
    {
     "data": {
      "image/png": "[encoded data removed]",
      "text/plain": [
       "<Figure size 432x288 with 1 Axes>"
      ]
     },
     "metadata": {
      "needs_background": "light"
     },
     "output_type": "display_data"
    }
   ],
   "source": [
    "krs.plot()"
   ]
  },
  {
   "cell_type": "code",
   "execution_count": 8,
   "metadata": {},
   "outputs": [],
   "source": [
    "from shapely.geometry import Point"
   ]
  },
  {
   "cell_type": "code",
   "execution_count": 9,
   "metadata": {},
   "outputs": [],
   "source": [
    "osm_ids = \"-62640\"\n",
    "buildings = pd.read_csv(f\"../Buildings{osm_ids}.csv\")\n",
    "geometry = [Point(x, y) for x, y in zip(buildings['lon'], buildings['lat'])]\n",
    "buildings = gpd.GeoDataFrame(buildings, geometry=geometry, crs=4326)"
   ]
  },
  {
   "cell_type": "code",
   "execution_count": 10,
   "metadata": {},
   "outputs": [],
   "source": [
    "tst = gpd.sjoin(krs, buildings, predicate=\"contains\")"
   ]
  },
  {
   "cell_type": "code",
   "execution_count": 11,
   "metadata": {},
   "outputs": [
    {
     "data": {
      "text/html": [
       "<div>\n",
       "<style scoped>\n",
       "    .dataframe tbody tr th:only-of-type {\n",
       "        vertical-align: middle;\n",
       "    }\n",
       "\n",
       "    .dataframe tbody tr th {\n",
       "        vertical-align: top;\n",
       "    }\n",
       "\n",
       "    .dataframe thead th {\n",
       "        text-align: right;\n",
       "    }\n",
       "</style>\n",
       "<table border=\"1\" class=\"dataframe\">\n",
       "  <thead>\n",
       "    <tr style=\"text-align: right;\">\n",
       "      <th></th>\n",
       "      <th>ADE</th>\n",
       "      <th>GF</th>\n",
       "      <th>BSG</th>\n",
       "      <th>ARS</th>\n",
       "      <th>SDV_ARS</th>\n",
       "      <th>GEN</th>\n",
       "      <th>BEZ</th>\n",
       "      <th>IBZ</th>\n",
       "      <th>BEM</th>\n",
       "      <th>NBD</th>\n",
       "      <th>...</th>\n",
       "      <th>lat</th>\n",
       "      <th>lon</th>\n",
       "      <th>population</th>\n",
       "      <th>landuse</th>\n",
       "      <th>region_type_RegioStaR7</th>\n",
       "      <th>number_shops</th>\n",
       "      <th>number_offices</th>\n",
       "      <th>number_schools</th>\n",
       "      <th>number_universities</th>\n",
       "      <th>InFocusArea</th>\n",
       "    </tr>\n",
       "    <tr>\n",
       "      <th>AGS</th>\n",
       "      <th></th>\n",
       "      <th></th>\n",
       "      <th></th>\n",
       "      <th></th>\n",
       "      <th></th>\n",
       "      <th></th>\n",
       "      <th></th>\n",
       "      <th></th>\n",
       "      <th></th>\n",
       "      <th></th>\n",
       "      <th></th>\n",
       "      <th></th>\n",
       "      <th></th>\n",
       "      <th></th>\n",
       "      <th></th>\n",
       "      <th></th>\n",
       "      <th></th>\n",
       "      <th></th>\n",
       "      <th></th>\n",
       "      <th></th>\n",
       "      <th></th>\n",
       "    </tr>\n",
       "  </thead>\n",
       "  <tbody>\n",
       "    <tr>\n",
       "      <th>09462</th>\n",
       "      <td>19202</td>\n",
       "      <td>19202</td>\n",
       "      <td>19202</td>\n",
       "      <td>19202</td>\n",
       "      <td>19202</td>\n",
       "      <td>19202</td>\n",
       "      <td>19202</td>\n",
       "      <td>19202</td>\n",
       "      <td>19202</td>\n",
       "      <td>19202</td>\n",
       "      <td>...</td>\n",
       "      <td>19202</td>\n",
       "      <td>19202</td>\n",
       "      <td>19202</td>\n",
       "      <td>19202</td>\n",
       "      <td>19202</td>\n",
       "      <td>19202</td>\n",
       "      <td>19202</td>\n",
       "      <td>19202</td>\n",
       "      <td>19202</td>\n",
       "      <td>19202</td>\n",
       "    </tr>\n",
       "    <tr>\n",
       "      <th>09472</th>\n",
       "      <td>25528</td>\n",
       "      <td>25528</td>\n",
       "      <td>25528</td>\n",
       "      <td>25528</td>\n",
       "      <td>25528</td>\n",
       "      <td>25528</td>\n",
       "      <td>25528</td>\n",
       "      <td>25528</td>\n",
       "      <td>25528</td>\n",
       "      <td>25528</td>\n",
       "      <td>...</td>\n",
       "      <td>25528</td>\n",
       "      <td>25528</td>\n",
       "      <td>25528</td>\n",
       "      <td>25528</td>\n",
       "      <td>25528</td>\n",
       "      <td>25528</td>\n",
       "      <td>25528</td>\n",
       "      <td>25528</td>\n",
       "      <td>25528</td>\n",
       "      <td>25528</td>\n",
       "    </tr>\n",
       "    <tr>\n",
       "      <th>09477</th>\n",
       "      <td>3099</td>\n",
       "      <td>3099</td>\n",
       "      <td>3099</td>\n",
       "      <td>3099</td>\n",
       "      <td>3099</td>\n",
       "      <td>3099</td>\n",
       "      <td>3099</td>\n",
       "      <td>3099</td>\n",
       "      <td>3099</td>\n",
       "      <td>3099</td>\n",
       "      <td>...</td>\n",
       "      <td>3099</td>\n",
       "      <td>3099</td>\n",
       "      <td>3099</td>\n",
       "      <td>3099</td>\n",
       "      <td>3099</td>\n",
       "      <td>3099</td>\n",
       "      <td>3099</td>\n",
       "      <td>3099</td>\n",
       "      <td>3099</td>\n",
       "      <td>3099</td>\n",
       "    </tr>\n",
       "  </tbody>\n",
       "</table>\n",
       "<p>3 rows × 39 columns</p>\n",
       "</div>"
      ],
      "text/plain": [
       "         ADE     GF    BSG    ARS  SDV_ARS    GEN    BEZ    IBZ    BEM    NBD  \\\n",
       "AGS                                                                             \n",
       "09462  19202  19202  19202  19202    19202  19202  19202  19202  19202  19202   \n",
       "09472  25528  25528  25528  25528    25528  25528  25528  25528  25528  25528   \n",
       "09477   3099   3099   3099   3099     3099   3099   3099   3099   3099   3099   \n",
       "\n",
       "       ...    lat    lon  population  landuse  region_type_RegioStaR7  \\\n",
       "AGS    ...                                                              \n",
       "09462  ...  19202  19202       19202    19202                   19202   \n",
       "09472  ...  25528  25528       25528    25528                   25528   \n",
       "09477  ...   3099   3099        3099     3099                    3099   \n",
       "\n",
       "       number_shops  number_offices  number_schools  number_universities  \\\n",
       "AGS                                                                        \n",
       "09462         19202           19202           19202                19202   \n",
       "09472         25528           25528           25528                25528   \n",
       "09477          3099            3099            3099                 3099   \n",
       "\n",
       "       InFocusArea  \n",
       "AGS                 \n",
       "09462        19202  \n",
       "09472        25528  \n",
       "09477         3099  \n",
       "\n",
       "[3 rows x 39 columns]"
      ]
     },
     "execution_count": 11,
     "metadata": {},
     "output_type": "execute_result"
    }
   ],
   "source": [
    "tst.groupby(\"AGS\").count()"
   ]
  },
  {
   "cell_type": "code",
   "execution_count": 17,
   "metadata": {},
   "outputs": [],
   "source": [
    "import matplotlib.pyplot as plt"
   ]
  },
  {
   "cell_type": "code",
   "execution_count": 19,
   "metadata": {},
   "outputs": [
    {
     "data": {
      "text/plain": [
       "<AxesSubplot:>"
      ]
     },
     "execution_count": 19,
     "metadata": {},
     "output_type": "execute_result"
    }
   ],
   "source": [
    "%matplotlib qt\n",
    "f, ax = plt.subplots()\n",
    "krs.plot(ax=ax)\n",
    "buildings.plot(ax=ax, color=\"0\", markersize=1)"
   ]
  },
  {
   "cell_type": "code",
   "execution_count": null,
   "metadata": {},
   "outputs": [],
   "source": []
  }
 ],
 "metadata": {
  "kernelspec": {
   "display_name": "Python 3.9.7 ('normal')",
   "language": "python",
   "name": "python3"
  },
  "language_info": {
   "codemirror_mode": {
    "name": "ipython",
    "version": 3
   },
   "file_extension": ".py",
   "mimetype": "text/x-python",
   "name": "python",
   "nbconvert_exporter": "python",
   "pygments_lexer": "ipython3",
   "version": "3.9.7"
  },
  "orig_nbformat": 4,
  "vscode": {
   "interpreter": {
    "hash": "d749c8ce9e35bcfe89ae7da7dd1c29d245296010c445b64634cf68a683f95c91"
   }
  }
 },
 "nbformat": 4,
 "nbformat_minor": 2
}
