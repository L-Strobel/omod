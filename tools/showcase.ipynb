{
 "cells": [
  {
   "cell_type": "code",
   "execution_count": 1,
   "metadata": {},
   "outputs": [],
   "source": [
    "import pandas as pd\n",
    "import utils\n",
    "import calcDistributions\n",
    "%matplotlib qt"
   ]
  },
  {
   "cell_type": "markdown",
   "metadata": {},
   "source": [
    "# Load and preprocess MID"
   ]
  },
  {
   "cell_type": "code",
   "execution_count": 2,
   "metadata": {},
   "outputs": [],
   "source": [
    "trips, persons = calcDistributions.loadData()"
   ]
  },
  {
   "cell_type": "markdown",
   "metadata": {},
   "source": [
    "---\n",
    "\n",
    "# Distance-Distributions\n",
    "\n",
    "## Home-Work\n",
    "\n",
    "Reasons for Lognorm: \n",
    "  - Very basic distribution\n",
    "  - Arises through central limit theorem then positive independent vars are multiplied\n",
    "  - 4x as fast sampling in java (commons.math)\n",
    "  - Tests:\n",
    "    - Wins most regions 4/7\n",
    "    - Wins on whole dataset ? TODO Weibull wins\n",
    "    - Wins then KS-Stat is weighted by sample number\n",
    "\n",
    "Reasons Weibull: \n",
    "  - Also common\n",
    "  - Wins on the Sum of KS-Stat\n",
    "\n",
    "All in all both seem to fit well"
   ]
  },
  {
   "cell_type": "code",
   "execution_count": 3,
   "metadata": {},
   "outputs": [],
   "source": [
    "home_work = utils.getDistanceDistributions(trips, \"H\", \"W\")"
   ]
  },
  {
   "cell_type": "markdown",
   "metadata": {},
   "source": [
    "## Home-School\n",
    "\n",
    "Lognorm wins all"
   ]
  },
  {
   "cell_type": "code",
   "execution_count": 4,
   "metadata": {},
   "outputs": [],
   "source": [
    "home_school = utils.getDistanceDistributions(trips, \"H\", \"S\")"
   ]
  },
  {
   "cell_type": "markdown",
   "metadata": {},
   "source": [
    "## Somwhere-Shopping\n",
    "\n",
    "Lognorm wins all"
   ]
  },
  {
   "cell_type": "code",
   "execution_count": 5,
   "metadata": {},
   "outputs": [],
   "source": [
    "any_shopping = utils.getDistanceDistributions(trips, None, \"P\")"
   ]
  },
  {
   "cell_type": "markdown",
   "metadata": {},
   "source": [
    "## Somewhere-Other\n",
    "\n",
    "Lognorm wins all"
   ]
  },
  {
   "cell_type": "code",
   "execution_count": 6,
   "metadata": {},
   "outputs": [],
   "source": [
    "any_other = utils.getDistanceDistributions(trips, None, \"O\")"
   ]
  },
  {
   "cell_type": "markdown",
   "metadata": {},
   "source": [
    "---\n",
    "\n",
    "# Activity Chains\n",
    "\n",
    "Features:\n",
    "- Daytype (7 Weekdays + Holiday))\n",
    "- Hom. Group (Working, non-Working, Pupil)\n",
    "- Mob. Group (Car-person, multimodal Person with Car, Non car owner)\n",
    "- Age"
   ]
  },
  {
   "cell_type": "code",
   "execution_count": 8,
   "metadata": {},
   "outputs": [],
   "source": [
    "groups = calcDistributions.getActivityChains(trips, persons)"
   ]
  },
  {
   "cell_type": "code",
   "execution_count": 9,
   "metadata": {},
   "outputs": [],
   "source": [
    "df = pd.DataFrame( calcDistributions.getActivityChains(trips, persons))"
   ]
  },
  {
   "cell_type": "code",
   "execution_count": 10,
   "metadata": {},
   "outputs": [
    {
     "data": {
      "text/html": [
       "<div>\n",
       "<style scoped>\n",
       "    .dataframe tbody tr th:only-of-type {\n",
       "        vertical-align: middle;\n",
       "    }\n",
       "\n",
       "    .dataframe tbody tr th {\n",
       "        vertical-align: top;\n",
       "    }\n",
       "\n",
       "    .dataframe thead th {\n",
       "        text-align: right;\n",
       "    }\n",
       "</style>\n",
       "<table border=\"1\" class=\"dataframe\">\n",
       "  <thead>\n",
       "    <tr style=\"text-align: right;\">\n",
       "      <th></th>\n",
       "      <th>weekday</th>\n",
       "      <th>Hom. Grp</th>\n",
       "      <th>Mob. Grp</th>\n",
       "      <th>Age</th>\n",
       "      <th>count</th>\n",
       "      <th>Group chains</th>\n",
       "    </tr>\n",
       "  </thead>\n",
       "  <tbody>\n",
       "    <tr>\n",
       "      <th>0</th>\n",
       "      <td>1</td>\n",
       "      <td>working</td>\n",
       "      <td>car_user</td>\n",
       "      <td>0_40</td>\n",
       "      <td>1499</td>\n",
       "      <td>{'HWH': 339, 'HWHOH': 82, 'H': 81, 'HWOH': 60,...</td>\n",
       "    </tr>\n",
       "    <tr>\n",
       "      <th>1</th>\n",
       "      <td>1</td>\n",
       "      <td>working</td>\n",
       "      <td>car_user</td>\n",
       "      <td>40_60</td>\n",
       "      <td>4492</td>\n",
       "      <td>{'HWH': 1019, 'H': 264, 'HWHOH': 235, 'HOH': 1...</td>\n",
       "    </tr>\n",
       "    <tr>\n",
       "      <th>2</th>\n",
       "      <td>1</td>\n",
       "      <td>working</td>\n",
       "      <td>car_user</td>\n",
       "      <td>60_100</td>\n",
       "      <td>1014</td>\n",
       "      <td>{'HWH': 192, 'H': 81, 'HWHOH': 48, 'HOH': 44, ...</td>\n",
       "    </tr>\n",
       "    <tr>\n",
       "      <th>3</th>\n",
       "      <td>1</td>\n",
       "      <td>working</td>\n",
       "      <td>car_user</td>\n",
       "      <td>undefined</td>\n",
       "      <td>7011</td>\n",
       "      <td>{'HWH': 1551, 'H': 427, 'HWHOH': 365, 'HOH': 2...</td>\n",
       "    </tr>\n",
       "    <tr>\n",
       "      <th>4</th>\n",
       "      <td>1</td>\n",
       "      <td>working</td>\n",
       "      <td>car_other</td>\n",
       "      <td>0_40</td>\n",
       "      <td>1165</td>\n",
       "      <td>{'HWH': 233, 'HWHOH': 85, 'H': 53, 'HWOH': 49,...</td>\n",
       "    </tr>\n",
       "    <tr>\n",
       "      <th>...</th>\n",
       "      <td>...</td>\n",
       "      <td>...</td>\n",
       "      <td>...</td>\n",
       "      <td>...</td>\n",
       "      <td>...</td>\n",
       "      <td>...</td>\n",
       "    </tr>\n",
       "    <tr>\n",
       "      <th>571</th>\n",
       "      <td>undefined</td>\n",
       "      <td>undefined</td>\n",
       "      <td>other</td>\n",
       "      <td>undefined</td>\n",
       "      <td>38683</td>\n",
       "      <td>{'H': 7739, 'HOH': 3536, 'HWH': 2620, 'HPH': 1...</td>\n",
       "    </tr>\n",
       "    <tr>\n",
       "      <th>572</th>\n",
       "      <td>undefined</td>\n",
       "      <td>undefined</td>\n",
       "      <td>undefined</td>\n",
       "      <td>0_40</td>\n",
       "      <td>92054</td>\n",
       "      <td>{'H': 12299, 'HOH': 8249, 'HSH': 8000, 'HWH': ...</td>\n",
       "    </tr>\n",
       "    <tr>\n",
       "      <th>573</th>\n",
       "      <td>undefined</td>\n",
       "      <td>undefined</td>\n",
       "      <td>undefined</td>\n",
       "      <td>40_60</td>\n",
       "      <td>97200</td>\n",
       "      <td>{'HWH': 12659, 'H': 10615, 'HOH': 6938, 'HWHOH...</td>\n",
       "    </tr>\n",
       "    <tr>\n",
       "      <th>574</th>\n",
       "      <td>undefined</td>\n",
       "      <td>undefined</td>\n",
       "      <td>undefined</td>\n",
       "      <td>60_100</td>\n",
       "      <td>111077</td>\n",
       "      <td>{'H': 21013, 'HOH': 13421, 'HPH': 6904, 'HO': ...</td>\n",
       "    </tr>\n",
       "    <tr>\n",
       "      <th>575</th>\n",
       "      <td>undefined</td>\n",
       "      <td>undefined</td>\n",
       "      <td>undefined</td>\n",
       "      <td>undefined</td>\n",
       "      <td>300948</td>\n",
       "      <td>{'H': 44050, 'HOH': 28669, 'HWH': 21159, 'HPH'...</td>\n",
       "    </tr>\n",
       "  </tbody>\n",
       "</table>\n",
       "<p>576 rows × 6 columns</p>\n",
       "</div>"
      ],
      "text/plain": [
       "       weekday   Hom. Grp   Mob. Grp        Age   count  \\\n",
       "0            1    working   car_user       0_40    1499   \n",
       "1            1    working   car_user      40_60    4492   \n",
       "2            1    working   car_user     60_100    1014   \n",
       "3            1    working   car_user  undefined    7011   \n",
       "4            1    working  car_other       0_40    1165   \n",
       "..         ...        ...        ...        ...     ...   \n",
       "571  undefined  undefined      other  undefined   38683   \n",
       "572  undefined  undefined  undefined       0_40   92054   \n",
       "573  undefined  undefined  undefined      40_60   97200   \n",
       "574  undefined  undefined  undefined     60_100  111077   \n",
       "575  undefined  undefined  undefined  undefined  300948   \n",
       "\n",
       "                                          Group chains  \n",
       "0    {'HWH': 339, 'HWHOH': 82, 'H': 81, 'HWOH': 60,...  \n",
       "1    {'HWH': 1019, 'H': 264, 'HWHOH': 235, 'HOH': 1...  \n",
       "2    {'HWH': 192, 'H': 81, 'HWHOH': 48, 'HOH': 44, ...  \n",
       "3    {'HWH': 1551, 'H': 427, 'HWHOH': 365, 'HOH': 2...  \n",
       "4    {'HWH': 233, 'HWHOH': 85, 'H': 53, 'HWOH': 49,...  \n",
       "..                                                 ...  \n",
       "571  {'H': 7739, 'HOH': 3536, 'HWH': 2620, 'HPH': 1...  \n",
       "572  {'H': 12299, 'HOH': 8249, 'HSH': 8000, 'HWH': ...  \n",
       "573  {'HWH': 12659, 'H': 10615, 'HOH': 6938, 'HWHOH...  \n",
       "574  {'H': 21013, 'HOH': 13421, 'HPH': 6904, 'HO': ...  \n",
       "575  {'H': 44050, 'HOH': 28669, 'HWH': 21159, 'HPH'...  \n",
       "\n",
       "[576 rows x 6 columns]"
      ]
     },
     "execution_count": 10,
     "metadata": {},
     "output_type": "execute_result"
    }
   ],
   "source": [
    "df"
   ]
  },
  {
   "cell_type": "markdown",
   "metadata": {},
   "source": [
    "---\n",
    "\n",
    "# Dwell time"
   ]
  },
  {
   "cell_type": "markdown",
   "metadata": {},
   "source": [
    "## Get time data"
   ]
  },
  {
   "cell_type": "code",
   "execution_count": 10,
   "metadata": {},
   "outputs": [],
   "source": [
    "trips = utils.addTime(trips)\n",
    "grp = trips.groupby('HP_ID_Lok')\n",
    "activityChains = (grp['StartLoc'].sum() + grp['DestLoc'].last())\n",
    "dwellTimes = trips.pivot(index='HP_ID_Lok', columns='W_ID', values='DwellTime')"
   ]
  },
  {
   "cell_type": "code",
   "execution_count": 11,
   "metadata": {},
   "outputs": [],
   "source": [
    "model = utils.getGaussianMixture(\"HOPH\", activityChains, dwellTimes, plot=True)"
   ]
  }
 ],
 "metadata": {
  "kernelspec": {
   "display_name": "Python 3.9.7 ('normal')",
   "language": "python",
   "name": "python3"
  },
  "language_info": {
   "codemirror_mode": {
    "name": "ipython",
    "version": 3
   },
   "file_extension": ".py",
   "mimetype": "text/x-python",
   "name": "python",
   "nbconvert_exporter": "python",
   "pygments_lexer": "ipython3",
   "version": "3.9.7"
  },
  "orig_nbformat": 4,
  "vscode": {
   "interpreter": {
    "hash": "d749c8ce9e35bcfe89ae7da7dd1c29d245296010c445b64634cf68a683f95c91"
   }
  }
 },
 "nbformat": 4,
 "nbformat_minor": 2
}
