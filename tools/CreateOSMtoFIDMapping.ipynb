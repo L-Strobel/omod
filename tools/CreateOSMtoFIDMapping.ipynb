{
 "cells": [
  {
   "cell_type": "code",
   "execution_count": 1,
   "metadata": {},
   "outputs": [],
   "source": [
    "import pandas as pd\n",
    "import geopandas as gpd\n",
    "import getBuildings\n",
    "from shapely.ops import nearest_points\n",
    "import matplotlib.pyplot as plt\n",
    "from shapely.geometry import LineString\n",
    "\n",
    "import json"
   ]
  },
  {
   "cell_type": "markdown",
   "metadata": {},
   "source": [
    "# Get closest"
   ]
  },
  {
   "cell_type": "code",
   "execution_count": 19,
   "metadata": {},
   "outputs": [
    {
     "name": "stderr",
     "output_type": "stream",
     "text": [
      "c:\\Users\\strobel\\miniconda3\\envs\\normal\\lib\\site-packages\\IPython\\core\\interactiveshell.py:3457: FutureWarning: The `op` parameter is deprecated and will be removed in a future release. Please use the `predicate` parameter instead.\n",
      "  exec(code_obj, self.user_global_ns, self.user_ns)\n",
      "c:\\Users\\strobel\\miniconda3\\envs\\normal\\lib\\site-packages\\IPython\\core\\interactiveshell.py:3457: FutureWarning: The `op` parameter is deprecated and will be removed in a future release. Please use the `predicate` parameter instead.\n",
      "  exec(code_obj, self.user_global_ns, self.user_ns)\n",
      "c:\\Users\\strobel\\miniconda3\\envs\\normal\\lib\\site-packages\\IPython\\core\\interactiveshell.py:3457: FutureWarning: The `op` parameter is deprecated and will be removed in a future release. Please use the `predicate` parameter instead.\n",
      "  exec(code_obj, self.user_global_ns, self.user_ns)\n",
      "c:\\Users\\strobel\\miniconda3\\envs\\normal\\lib\\site-packages\\IPython\\core\\interactiveshell.py:3457: FutureWarning: The `op` parameter is deprecated and will be removed in a future release. Please use the `predicate` parameter instead.\n",
      "  exec(code_obj, self.user_global_ns, self.user_ns)\n",
      "c:\\Users\\strobel\\miniconda3\\envs\\normal\\lib\\site-packages\\IPython\\core\\interactiveshell.py:3457: FutureWarning: The `op` parameter is deprecated and will be removed in a future release. Please use the `predicate` parameter instead.\n",
      "  exec(code_obj, self.user_global_ns, self.user_ns)\n",
      "c:\\Users\\strobel\\miniconda3\\envs\\normal\\lib\\site-packages\\IPython\\core\\interactiveshell.py:3457: FutureWarning: The `op` parameter is deprecated and will be removed in a future release. Please use the `predicate` parameter instead.\n",
      "  exec(code_obj, self.user_global_ns, self.user_ns)\n",
      "c:\\Users\\strobel\\miniconda3\\envs\\normal\\lib\\site-packages\\IPython\\core\\interactiveshell.py:3457: FutureWarning: The `op` parameter is deprecated and will be removed in a future release. Please use the `predicate` parameter instead.\n",
      "  exec(code_obj, self.user_global_ns, self.user_ns)\n"
     ]
    }
   ],
   "source": [
    "osm_ids = '-62640, -1070986,-1070976,-1070979,-1071007,-1070996,-1071000,-1070985,-1070974' # Bayreuth\n",
    "df = getBuildings.loadBuildingsData(osm_ids)\n",
    "df = df.set_geometry(\"way\")"
   ]
  },
  {
   "cell_type": "code",
   "execution_count": 52,
   "metadata": {},
   "outputs": [],
   "source": [
    "data = pd.read_csv(\"C:/Users/strobel/Projekte/esmregio/Daten/Stadtwerke/netzkopplungspunkte/Anschluesse_Strom_Stand_02_05_2022.csv\", sep=\";\", decimal =\",\", encoding=\"ANSI\")\n",
    "gdf = gpd.GeoDataFrame(data, geometry=gpd.points_from_xy(data[\"Koordinate x\"], data[\"Koordinate y\"]), crs=\"EPSG:32632\")\n",
    "gdf = gdf.to_crs(\"EPSG:3857\")\n",
    "gdf = gdf.set_index(\"GIS_FID\", drop=False)"
   ]
  },
  {
   "cell_type": "code",
   "execution_count": 60,
   "metadata": {},
   "outputs": [],
   "source": [
    "# Very slow ~ 250min\n",
    "# If I have to do this again check if gpd.sjoin_nearest works now\n",
    "ids = []\n",
    "\n",
    "multipoint = gdf.geometry.unary_union\n",
    "for poly in df.geometry:\n",
    "    queried_geom, nearest_geom = nearest_points(poly, multipoint)\n",
    "    ids.append(gdf[gdf.geometry == nearest_geom].GIS_FID.iloc[0])\n",
    "df[\"GIS_FID\"] = ids"
   ]
  },
  {
   "cell_type": "code",
   "execution_count": 61,
   "metadata": {},
   "outputs": [],
   "source": [
    "# Save\n",
    "osm_fid_map = {}\n",
    "for osm_id, gis_fid in zip(df.osm_id, df.GIS_FID):\n",
    "    osm_fid_map[osm_id] = gis_fid\n",
    "with open(\"OSMtoFID.json\", \"w\") as fn:\n",
    "    json.dump(osm_fid_map, fn)"
   ]
  },
  {
   "cell_type": "markdown",
   "metadata": {},
   "source": [
    "# Test"
   ]
  },
  {
   "cell_type": "code",
   "execution_count": 10,
   "metadata": {},
   "outputs": [],
   "source": [
    "data = pd.read_csv(\"C:/Users/strobel/Projekte/esmregio/Daten/Stadtwerke/netzkopplungspunkte/Anschluesse_Strom_Stand_02_05_2022.csv\", sep=\";\", decimal =\",\", encoding=\"ANSI\")\n",
    "gdf = gpd.GeoDataFrame(data, geometry=gpd.points_from_xy(data[\"Koordinate x\"], data[\"Koordinate y\"]), crs=\"EPSG:32632\")\n",
    "gdf = gdf.to_crs(\"EPSG:3857\")\n",
    "data = pd.read_csv(\"../Buildings-62640,-1070986,-1070976,-1070979,-1071007,-1070996,-1071000,-1070985,-1070974.csv\")\n",
    "buildings = gpd.GeoDataFrame(data, geometry=gpd.points_from_xy(data[\"lon\"], data[\"lat\"]), crs=\"EPSG:4326\").to_crs(\"EPSG:3857\")"
   ]
  },
  {
   "cell_type": "code",
   "execution_count": 12,
   "metadata": {},
   "outputs": [],
   "source": [
    "with open(\"OSMtoFID.json\", \"r\") as fn:\n",
    "    ma = json.load(fn)"
   ]
  },
  {
   "cell_type": "code",
   "execution_count": 15,
   "metadata": {},
   "outputs": [],
   "source": [
    "buildings[\"GIS_FID\"] = buildings.osm_id.apply(lambda x: ma[str(x)])"
   ]
  },
  {
   "cell_type": "code",
   "execution_count": 17,
   "metadata": {},
   "outputs": [
    {
     "name": "stderr",
     "output_type": "stream",
     "text": [
      "c:\\Users\\strobel\\miniconda3\\envs\\normal\\lib\\site-packages\\pandas\\core\\dtypes\\cast.py:122: ShapelyDeprecationWarning: The array interface is deprecated and will no longer work in Shapely 2.0. Convert the '.coords' to a numpy array instead.\n",
      "  arr = construct_1d_object_array_from_listlike(values)\n"
     ]
    }
   ],
   "source": [
    "tst = buildings.set_index(\"GIS_FID\").copy()[\"geometry\"].to_frame()\n",
    "tst[\"point\"] = gdf.set_index(\"GIS_FID\").geometry\n",
    "tst['conn'] = tst.apply(lambda x: LineString([x[\"geometry\"].centroid, x[\"point\"]]), axis=1)\n",
    "tst = gpd.GeoDataFrame(tst, geometry=\"conn\")"
   ]
  },
  {
   "cell_type": "code",
   "execution_count": 18,
   "metadata": {},
   "outputs": [
    {
     "data": {
      "text/plain": [
       "<AxesSubplot:>"
      ]
     },
     "execution_count": 18,
     "metadata": {},
     "output_type": "execute_result"
    }
   ],
   "source": [
    "%matplotlib qt\n",
    "f, ax = plt.subplots()\n",
    "buildings.plot(ax=ax)\n",
    "gdf.plot(ax=ax)\n",
    "tst.plot(ax=ax)"
   ]
  },
  {
   "cell_type": "code",
   "execution_count": null,
   "metadata": {},
   "outputs": [],
   "source": []
  }
 ],
 "metadata": {
  "interpreter": {
   "hash": "d749c8ce9e35bcfe89ae7da7dd1c29d245296010c445b64634cf68a683f95c91"
  },
  "kernelspec": {
   "display_name": "Python 3.9.7 ('normal')",
   "language": "python",
   "name": "python3"
  },
  "language_info": {
   "codemirror_mode": {
    "name": "ipython",
    "version": 3
   },
   "file_extension": ".py",
   "mimetype": "text/x-python",
   "name": "python",
   "nbconvert_exporter": "python",
   "pygments_lexer": "ipython3",
   "version": "3.9.7"
  },
  "orig_nbformat": 4
 },
 "nbformat": 4,
 "nbformat_minor": 2
}
